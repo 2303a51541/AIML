{
  "nbformat": 4,
  "nbformat_minor": 0,
  "metadata": {
    "colab": {
      "provenance": [],
      "authorship_tag": "ABX9TyMR6xEtbKtpSS6Exh3x/GEe",
      "include_colab_link": true
    },
    "kernelspec": {
      "name": "python3",
      "display_name": "Python 3"
    },
    "language_info": {
      "name": "python"
    }
  },
  "cells": [
    {
      "cell_type": "markdown",
      "metadata": {
        "id": "view-in-github",
        "colab_type": "text"
      },
      "source": [
        "<a href=\"https://colab.research.google.com/github/2303a51541/AIML/blob/main/LAB-3.ipynb\" target=\"_parent\"><img src=\"https://colab.research.google.com/assets/colab-badge.svg\" alt=\"Open In Colab\"/></a>"
      ]
    },
    {
      "cell_type": "markdown",
      "source": [
        "Implement the AI Game Strategy\n"
      ],
      "metadata": {
        "id": "q9NCncF-QlK3"
      }
    },
    {
      "cell_type": "code",
      "source": [
        "from collections import namedtuple, Counter, defaultdict\n",
        "import random\n",
        "import math\n",
        "import functools\n",
        "cache = functools.lru_cache(10**6)"
      ],
      "metadata": {
        "id": "GYH9fsgqSW2n"
      },
      "execution_count": 10,
      "outputs": []
    },
    {
      "cell_type": "code",
      "source": [
        "class Game:\n",
        "    def actions(self, state):\n",
        "        \"\"\"Return a collection of the allowable moves from this state.\"\"\"\n",
        "        raise NotImplementedError\n",
        "\n",
        "    def result(self, state, move):\n",
        "        \"\"\"Return the state that results from making a move from a state.\"\"\"\n",
        "        raise NotImplementedError\n",
        "\n",
        "    def is_terminal(self, state):\n",
        "        \"\"\"Return True if this is a final state for the game.\"\"\"\n",
        "        return not self.actions(state)\n",
        "\n",
        "    def utility(self, state, player):\n",
        "        \"\"\"Return the value of this final state to player.\"\"\"\n",
        "        raise NotImplementedError\n",
        ""
      ],
      "metadata": {
        "id": "bQkF-g_RRRkT"
      },
      "execution_count": 11,
      "outputs": []
    },
    {
      "cell_type": "markdown",
      "source": [
        "Implement the MiniMax Search Algorithm"
      ],
      "metadata": {
        "id": "gXYt5V5jSQIC"
      }
    },
    {
      "cell_type": "code",
      "source": [
        "def minimax_search(game, state):\n",
        "    \"\"\"Search game tree to determine best move; return (value, move) pair.\"\"\"\n",
        "    player = state.to_move\n",
        "    def max_value(state):\n",
        "        if game.is_terminal(state):\n",
        "            return game.utility(state, player), None\n",
        "        v, move = -float('inf'), None\n",
        "        for a in game.actions(state):\n",
        "            v2, _ = min_value(game.result(state, a))\n",
        "            if v2 > v:\n",
        "                v, move = v2, a\n",
        "        return v, move\n",
        "    def min_value(state):\n",
        "        if game.is_terminal(state):\n",
        "            return game.utility(state, player), None\n",
        "        v, move = float('inf'), None\n",
        "        for a in game.actions(state):\n",
        "            v2, _ = max_value(game.result(state, a))\n",
        "            if v2 < v:\n",
        "                v, move = v2, a\n",
        "        return v, move\n",
        "    return max_value(state)\n",
        "infinity = math.inf"
      ],
      "metadata": {
        "id": "jUPmQb-vSurQ"
      },
      "execution_count": 9,
      "outputs": []
    },
    {
      "cell_type": "markdown",
      "source": [
        "Implement the Alpha-Beta Search Algorithm"
      ],
      "metadata": {
        "id": "xi8hcxfKTEVg"
      }
    },
    {
      "cell_type": "code",
      "source": [
        "def alphabeta_search(game, state):\n",
        "  ##Search game to determine best action;\n",
        "  ##use alpha-beta pruning.\n",
        "  ##Search all the way to the leaves.\n",
        "  player = state.to_move\n",
        "\n",
        "  def max_value(state, alpha, beta):\n",
        "    if game.is_terminal(state):\n",
        "      return game.utility(state, player), None\n",
        "    v, move = -infinity, None\n",
        "    for a in game.actions(state):\n",
        "      v2, _ = min_value(game.result(state, a), alpha, beta)\n",
        "      if v2 > v:\n",
        "        v, move = v2, a\n",
        "        alpha = max(alpha, v)\n",
        "        if v >= beta:\n",
        "          return v, move\n",
        "    return v, move\n",
        "\n",
        "  def min_value(state, alpha, beta):\n",
        "    if game.is_terminal(state):\n",
        "      return game.utility(state, player), None\n",
        "    v, move = +infinity, None\n",
        "    for a in game.actions(state):\n",
        "      v2, _ = max_value(game.result(state, a), alpha, beta)\n",
        "      if v2 < v:\n",
        "        v, move = v2, a\n",
        "        beta = min(beta, v)\n",
        "        if v <= alpha:\n",
        "          return v, move\n",
        "    return v, move\n",
        "\n",
        "  return max_value(state, -infinity, +infinity)"
      ],
      "metadata": {
        "id": "AUS_fAP7TKcJ"
      },
      "execution_count": 12,
      "outputs": []
    },
    {
      "cell_type": "markdown",
      "source": [
        "Implement the Game Strategy using TicTocToe"
      ],
      "metadata": {
        "id": "gh0tUUdBUoeD"
      }
    },
    {
      "cell_type": "code",
      "source": [],
      "metadata": {
        "id": "1FtMOXrFUtMp"
      },
      "execution_count": null,
      "outputs": []
    }
  ]
}