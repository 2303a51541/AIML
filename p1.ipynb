{
  "nbformat": 4,
  "nbformat_minor": 0,
  "metadata": {
    "colab": {
      "provenance": [],
      "authorship_tag": "ABX9TyN1ffbOt75EeznS3He+aV/W",
      "include_colab_link": true
    },
    "kernelspec": {
      "name": "python3",
      "display_name": "Python 3"
    },
    "language_info": {
      "name": "python"
    }
  },
  "cells": [
    {
      "cell_type": "markdown",
      "metadata": {
        "id": "view-in-github",
        "colab_type": "text"
      },
      "source": [
        "<a href=\"https://colab.research.google.com/github/2303a51541/refactored-potato/blob/main/p1.ipynb\" target=\"_parent\"><img src=\"https://colab.research.google.com/assets/colab-badge.svg\" alt=\"Open In Colab\"/></a>"
      ]
    },
    {
      "cell_type": "code",
      "execution_count": null,
      "metadata": {
        "id": "0ZQUO1l18h4e"
      },
      "outputs": [],
      "source": []
    },
    {
      "cell_type": "code",
      "source": [
        "#lists in python\n",
        "import numpy as np\n",
        "thislist = [1,3,5,7,9]\n",
        "print(thislist)\n"
      ],
      "metadata": {
        "colab": {
          "base_uri": "https://localhost:8080/"
        },
        "id": "FWWrs5mh-cF4",
        "outputId": "d9b8110d-f532-4a5a-cbb4-fea1063eed36"
      },
      "execution_count": null,
      "outputs": [
        {
          "output_type": "stream",
          "name": "stdout",
          "text": [
            "[1, 3, 5, 7, 9]\n"
          ]
        }
      ]
    },
    {
      "cell_type": "code",
      "source": [
        "#arrays using numpy\n",
        "import numpy as np\n",
        "cars = [\"PORSCHE\", \"RANGE ROVER\", \"BMW\"]\n",
        "arr = np.array(cars)\n",
        "print(arr)"
      ],
      "metadata": {
        "colab": {
          "base_uri": "https://localhost:8080/"
        },
        "id": "c0uz7oIvCaPu",
        "outputId": "ac0ba609-699f-42ce-b50c-7de897a9bdf9"
      },
      "execution_count": null,
      "outputs": [
        {
          "output_type": "stream",
          "name": "stdout",
          "text": [
            "['PORSCHE' 'RANGE ROVER' 'BMW']\n"
          ]
        }
      ]
    },
    {
      "cell_type": "code",
      "source": [
        "#types using numpy\n",
        "import numpy as np\n",
        "arr = np.array([\"zobiya,\"])\n",
        "print(arr.dtype)"
      ],
      "metadata": {
        "id": "nsQ6jEJWEofl",
        "outputId": "64d480c8-746f-47d9-88d8-096ca1a9c088",
        "colab": {
          "base_uri": "https://localhost:8080/"
        }
      },
      "execution_count": 2,
      "outputs": [
        {
          "output_type": "stream",
          "name": "stdout",
          "text": [
            "<U7\n"
          ]
        }
      ]
    }
  ]
}