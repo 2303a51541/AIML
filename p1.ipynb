{
  "nbformat": 4,
  "nbformat_minor": 0,
  "metadata": {
    "colab": {
      "provenance": [],
      "authorship_tag": "ABX9TyN6is1qt+rsYq386Zr0HNHa",
      "include_colab_link": true
    },
    "kernelspec": {
      "name": "python3",
      "display_name": "Python 3"
    },
    "language_info": {
      "name": "python"
    }
  },
  "cells": [
    {
      "cell_type": "markdown",
      "metadata": {
        "id": "view-in-github",
        "colab_type": "text"
      },
      "source": [
        "<a href=\"https://colab.research.google.com/github/2303a51541/AIML/blob/main/p1.ipynb\" target=\"_parent\"><img src=\"https://colab.research.google.com/assets/colab-badge.svg\" alt=\"Open In Colab\"/></a>"
      ]
    },
    {
      "cell_type": "code",
      "execution_count": null,
      "metadata": {
        "id": "0ZQUO1l18h4e"
      },
      "outputs": [],
      "source": []
    },
    {
      "cell_type": "code",
      "source": [
        "#lists in python(PART1)\n",
        "import numpy as np\n",
        "thislist = [1,3,5,7,9]\n",
        "print(thislist)"
      ],
      "metadata": {
        "colab": {
          "base_uri": "https://localhost:8080/"
        },
        "id": "FWWrs5mh-cF4",
        "outputId": "d9b8110d-f532-4a5a-cbb4-fea1063eed36"
      },
      "execution_count": null,
      "outputs": [
        {
          "output_type": "stream",
          "name": "stdout",
          "text": [
            "[1, 3, 5, 7, 9]\n"
          ]
        }
      ]
    },
    {
      "cell_type": "code",
      "source": [
        "import pandas as pd\n",
        "thislist = [2,4,6,8,10]\n",
        "print(thislist)"
      ],
      "metadata": {
        "id": "sAbPMK_2K5Bv",
        "outputId": "5afd8673-c85f-4117-e54d-48c083d102e6",
        "colab": {
          "base_uri": "https://localhost:8080/"
        }
      },
      "execution_count": 14,
      "outputs": [
        {
          "output_type": "stream",
          "name": "stdout",
          "text": [
            "[2, 4, 6, 8, 10]\n"
          ]
        }
      ]
    },
    {
      "cell_type": "code",
      "source": [
        "#arrays using numpy\n",
        "import numpy as np\n",
        "cars = [\"PORSCHE\", \"RANGE ROVER\", \"BMW\"]\n",
        "arr = np.array(cars)\n",
        "print(arr)"
      ],
      "metadata": {
        "colab": {
          "base_uri": "https://localhost:8080/"
        },
        "id": "c0uz7oIvCaPu",
        "outputId": "9d694f48-909d-45c6-9be9-aa0b5375ab81"
      },
      "execution_count": 19,
      "outputs": [
        {
          "output_type": "stream",
          "name": "stdout",
          "text": [
            "['PORSCHE' 'RANGE ROVER' 'BMW']\n"
          ]
        }
      ]
    },
    {
      "cell_type": "code",
      "source": [
        "import pandas as pd\n",
        "odd = [1,3,5,7,9]\n",
        "arr = pd.Series(odd)\n",
        "print(arr)\n"
      ],
      "metadata": {
        "id": "ARGcvRn-LICv",
        "outputId": "bb8b2424-6445-460d-fd57-6951866c04ac",
        "colab": {
          "base_uri": "https://localhost:8080/"
        }
      },
      "execution_count": 18,
      "outputs": [
        {
          "output_type": "stream",
          "name": "stdout",
          "text": [
            "0    1\n",
            "1    3\n",
            "2    5\n",
            "3    7\n",
            "4    9\n",
            "dtype: int64\n"
          ]
        }
      ]
    },
    {
      "cell_type": "code",
      "source": [
        "#types using numpy\n",
        "import numpy as np\n",
        "arr = np.array([\"zobiya\",\"spriha\",\"bhavya\"])\n",
        "print(arr.dtype)"
      ],
      "metadata": {
        "colab": {
          "base_uri": "https://localhost:8080/"
        },
        "id": "nsQ6jEJWEofl",
        "outputId": "e896c698-4a62-49af-a001-3a46974be8f6"
      },
      "execution_count": null,
      "outputs": [
        {
          "output_type": "stream",
          "name": "stdout",
          "text": [
            "<U6\n"
          ]
        }
      ]
    },
    {
      "cell_type": "code",
      "source": [
        "import pandas as pd\n",
        "arr = pd.Series([\"zobiya\",\"spriha\",\"bhavya\"])\n",
        "print(arr.dtype)"
      ],
      "metadata": {
        "id": "RPGB8s6eMVWj",
        "outputId": "53f71fdc-9b2f-44e2-fc50-0da5677d4d14",
        "colab": {
          "base_uri": "https://localhost:8080/"
        }
      },
      "execution_count": 21,
      "outputs": [
        {
          "output_type": "stream",
          "name": "stdout",
          "text": [
            "object\n"
          ]
        }
      ]
    },
    {
      "cell_type": "code",
      "source": [
        "#mathematical operations using numpy\n",
        "import numpy as np\n",
        "a = np.array([7,8,9])\n",
        "b = np.array([3,4,5])\n",
        "np.multiply= a*b\n",
        "print(\"multiplication= \",(np.multiply))\n",
        "np.divide= a/b\n",
        "print(\"divide= \",(np.divide))\n",
        "np.poweroff= a%b\n",
        "print(\"poewroff= \",(np.poweroff))"
      ],
      "metadata": {
        "id": "XpFocuzIKber",
        "outputId": "ca36ed25-26f6-4acd-f2ff-c41de0f7ce18",
        "colab": {
          "base_uri": "https://localhost:8080/"
        }
      },
      "execution_count": 1,
      "outputs": [
        {
          "output_type": "stream",
          "name": "stdout",
          "text": [
            "multiplication=  [21 32 45]\n",
            "divide=  [2.33333333 2.         1.8       ]\n",
            "poewroff=  [1 0 4]\n"
          ]
        }
      ]
    },
    {
      "cell_type": "code",
      "source": [
        "import pandas as pd\n",
        "a = pd.Series([7,8,9])\n",
        "b = pd.Series([3,4,5])\n",
        "pd.multiply= a*b\n",
        "print(\"multiplication= \",(pd.multiply))\n",
        "pd.divide= a/b\n",
        "print(\"divide= \",(pd.divide))\n",
        "pd.poweroff= a%b\n",
        "print(\"poewroff= \",(pd.poweroff))"
      ],
      "metadata": {
        "id": "pcIIFytMMs4v",
        "outputId": "aed1ea21-e91c-468e-fc10-ef399e757c45",
        "colab": {
          "base_uri": "https://localhost:8080/"
        }
      },
      "execution_count": 24,
      "outputs": [
        {
          "output_type": "stream",
          "name": "stdout",
          "text": [
            "multiplication=  0    21\n",
            "1    32\n",
            "2    45\n",
            "dtype: int64\n",
            "divide=  0    2.333333\n",
            "1    2.000000\n",
            "2    1.800000\n",
            "dtype: float64\n",
            "poewroff=  0    1\n",
            "1    0\n",
            "2    4\n",
            "dtype: int64\n"
          ]
        }
      ]
    },
    {
      "cell_type": "code",
      "source": [
        "#combine text using numpy\n",
        "import numpy as np\n",
        "arr1 = np.array(\"Addition of two: \")\n",
        "arr2 = np.array(\"array1 + array2\")\n",
        "result =np.char.add(arr1, arr2)\n",
        "\n",
        "print(result)\n"
      ],
      "metadata": {
        "colab": {
          "base_uri": "https://localhost:8080/"
        },
        "id": "jzXHLzSs_Cb5",
        "outputId": "6cb9cd27-83df-4a0b-f79b-9007d1b3614c"
      },
      "execution_count": 9,
      "outputs": [
        {
          "output_type": "stream",
          "name": "stdout",
          "text": [
            "Addition of two: array1 + array2\n"
          ]
        }
      ]
    },
    {
      "cell_type": "code",
      "source": [
        "import pandas as pd\n",
        "arr1 = pd.Series(\"Addition of two: \")\n",
        "arr2 = pd.Series(\"array1 + array2\")\n",
        "result =arr1.str.cat(arr2)\n",
        "print(result)"
      ],
      "metadata": {
        "id": "ToHpdLLuNOvk",
        "outputId": "b0557022-fb23-4d67-8d94-c420c768bb59",
        "colab": {
          "base_uri": "https://localhost:8080/"
        }
      },
      "execution_count": 28,
      "outputs": [
        {
          "output_type": "stream",
          "name": "stdout",
          "text": [
            "0    Addition of two: array1 + array2\n",
            "dtype: object\n"
          ]
        }
      ]
    },
    {
      "cell_type": "code",
      "source": [
        "#implementation of np.sin() , log() , log2() , np.exp())\n",
        "#np.sin()\n",
        "import numpy as np\n",
        "a = np.array([7,8,9])\n",
        "b = np.sin(a)\n",
        "print(b)\n",
        "#log()\n",
        "c = np.log(a)\n",
        "print(c)\n",
        "#log2()\n",
        "d = np.log2(a)\n",
        "print(d)\n",
        "#np.exp()\n",
        "e = np.exp(a)\n",
        "print(e)"
      ],
      "metadata": {
        "id": "LdKsI78lEXvH",
        "outputId": "a1a18967-9d3d-487f-a7c4-b9fb54c87157",
        "colab": {
          "base_uri": "https://localhost:8080/"
        }
      },
      "execution_count": 13,
      "outputs": [
        {
          "output_type": "stream",
          "name": "stdout",
          "text": [
            "[0.6569866  0.98935825 0.41211849]\n",
            "[1.94591015 2.07944154 2.19722458]\n",
            "[2.80735492 3.         3.169925  ]\n",
            "[1096.63315843 2980.95798704 8103.08392758]\n"
          ]
        }
      ]
    },
    {
      "cell_type": "code",
      "source": [],
      "metadata": {
        "id": "ymzuofc2JsaE"
      },
      "execution_count": 30,
      "outputs": []
    }
  ]
}